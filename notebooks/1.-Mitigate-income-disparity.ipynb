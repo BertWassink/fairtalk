{
 "cells": [
  {
   "cell_type": "markdown",
   "metadata": {},
   "source": [
    "Let us predict who is earning more than 50.000 dollar.\n",
    "Those people will be eligible to stay at our XXX lounge."
   ]
  },
  {
   "cell_type": "code",
   "execution_count": 30,
   "metadata": {},
   "outputs": [],
   "source": [
    "import numpy as np\n",
    "import pandas as pd\n",
    "import matplotlib.pyplot as plt\n",
    "from shap.datasets import adult  # shap is only used as dataset utility\n"
   ]
  },
  {
   "cell_type": "code",
   "execution_count": 31,
   "metadata": {},
   "outputs": [
    {
     "data": {
      "text/html": [
       "<div>\n",
       "<style scoped>\n",
       "    .dataframe tbody tr th:only-of-type {\n",
       "        vertical-align: middle;\n",
       "    }\n",
       "\n",
       "    .dataframe tbody tr th {\n",
       "        vertical-align: top;\n",
       "    }\n",
       "\n",
       "    .dataframe thead th {\n",
       "        text-align: right;\n",
       "    }\n",
       "</style>\n",
       "<table border=\"1\" class=\"dataframe\">\n",
       "  <thead>\n",
       "    <tr style=\"text-align: right;\">\n",
       "      <th></th>\n",
       "      <th>age</th>\n",
       "      <th>workclass</th>\n",
       "      <th>education-num</th>\n",
       "      <th>marital status</th>\n",
       "      <th>occupation</th>\n",
       "      <th>relationship</th>\n",
       "      <th>race</th>\n",
       "      <th>sex</th>\n",
       "      <th>capital gain</th>\n",
       "      <th>capital loss</th>\n",
       "      <th>hours per week</th>\n",
       "      <th>country</th>\n",
       "    </tr>\n",
       "  </thead>\n",
       "  <tbody>\n",
       "    <tr>\n",
       "      <th>0</th>\n",
       "      <td>39.0</td>\n",
       "      <td>7</td>\n",
       "      <td>13.0</td>\n",
       "      <td>4</td>\n",
       "      <td>1</td>\n",
       "      <td>0</td>\n",
       "      <td>4</td>\n",
       "      <td>1</td>\n",
       "      <td>2174.0</td>\n",
       "      <td>0.0</td>\n",
       "      <td>40.0</td>\n",
       "      <td>39</td>\n",
       "    </tr>\n",
       "    <tr>\n",
       "      <th>1</th>\n",
       "      <td>50.0</td>\n",
       "      <td>6</td>\n",
       "      <td>13.0</td>\n",
       "      <td>2</td>\n",
       "      <td>4</td>\n",
       "      <td>4</td>\n",
       "      <td>4</td>\n",
       "      <td>1</td>\n",
       "      <td>0.0</td>\n",
       "      <td>0.0</td>\n",
       "      <td>13.0</td>\n",
       "      <td>39</td>\n",
       "    </tr>\n",
       "    <tr>\n",
       "      <th>2</th>\n",
       "      <td>38.0</td>\n",
       "      <td>4</td>\n",
       "      <td>9.0</td>\n",
       "      <td>0</td>\n",
       "      <td>6</td>\n",
       "      <td>0</td>\n",
       "      <td>4</td>\n",
       "      <td>1</td>\n",
       "      <td>0.0</td>\n",
       "      <td>0.0</td>\n",
       "      <td>40.0</td>\n",
       "      <td>39</td>\n",
       "    </tr>\n",
       "    <tr>\n",
       "      <th>3</th>\n",
       "      <td>53.0</td>\n",
       "      <td>4</td>\n",
       "      <td>7.0</td>\n",
       "      <td>2</td>\n",
       "      <td>6</td>\n",
       "      <td>4</td>\n",
       "      <td>2</td>\n",
       "      <td>1</td>\n",
       "      <td>0.0</td>\n",
       "      <td>0.0</td>\n",
       "      <td>40.0</td>\n",
       "      <td>39</td>\n",
       "    </tr>\n",
       "    <tr>\n",
       "      <th>4</th>\n",
       "      <td>28.0</td>\n",
       "      <td>4</td>\n",
       "      <td>13.0</td>\n",
       "      <td>2</td>\n",
       "      <td>10</td>\n",
       "      <td>5</td>\n",
       "      <td>2</td>\n",
       "      <td>0</td>\n",
       "      <td>0.0</td>\n",
       "      <td>0.0</td>\n",
       "      <td>40.0</td>\n",
       "      <td>5</td>\n",
       "    </tr>\n",
       "  </tbody>\n",
       "</table>\n",
       "</div>"
      ],
      "text/plain": [
       "    age  workclass  education-num  marital status  occupation  relationship  \\\n",
       "0  39.0          7           13.0               4           1             0   \n",
       "1  50.0          6           13.0               2           4             4   \n",
       "2  38.0          4            9.0               0           6             0   \n",
       "3  53.0          4            7.0               2           6             4   \n",
       "4  28.0          4           13.0               2          10             5   \n",
       "\n",
       "   race  sex  capital gain  capital loss  hours per week  country  \n",
       "0     4    1        2174.0           0.0            40.0       39  \n",
       "1     4    1           0.0           0.0            13.0       39  \n",
       "2     4    1           0.0           0.0            40.0       39  \n",
       "3     2    1           0.0           0.0            40.0       39  \n",
       "4     2    0           0.0           0.0            40.0        5  "
      ]
     },
     "execution_count": 31,
     "metadata": {},
     "output_type": "execute_result"
    }
   ],
   "source": [
    "X, y_true = adult()\n",
    "X.columns = [col.lower() for col in X.columns]\n",
    "X.head()"
   ]
  },
  {
   "cell_type": "code",
   "execution_count": 32,
   "metadata": {},
   "outputs": [
    {
     "data": {
      "image/png": "[encoded data removed]",
      "text/plain": [
       "<Figure size 432x288 with 1 Axes>"
      ]
     },
     "metadata": {
      "needs_background": "light"
     },
     "output_type": "display_data"
    }
   ],
   "source": [
    "y_true = y_true * 1 \n",
    "sex = X['sex'].apply(lambda sex: \"female\" if sex == 0 else \"male\")\n",
    "\n",
    "def percentage_with_label_1(sex_value):\n",
    "    return y_true[sex == sex_value].sum() / (sex == sex_value).sum()\n",
    "\n",
    "\n",
    "plt.bar([0, 1], \n",
    "        [percentage_with_label_1(\"female\"), percentage_with_label_1(\"male\")], \n",
    "        color='g')\n",
    "plt.xticks([0, 1], [\"female\", \"male\"])\n",
    "plt.ylabel(\"percentage earning over $50,000\")\n",
    "plt.xlabel(\"sex\")\n",
    "plt.show()"
   ]
  },
  {
   "cell_type": "markdown",
   "metadata": {},
   "source": [
    "### Fit an unaware model"
   ]
  },
  {
   "cell_type": "code",
   "execution_count": 33,
   "metadata": {},
   "outputs": [],
   "source": [
    "from sklearn.linear_model import LogisticRegression\n",
    "numeric_columns = ['age', 'capital gain', 'education-num', 'capital loss', 'hours per week']\n",
    "\n",
    "classifier = LogisticRegression()\n",
    "classifier.fit(X[numeric_columns], y_true)\n",
    "\n",
    "y_pred = classifier.predict(X[numeric_columns])\n",
    "y_prob = classifier.predict_proba(X[numeric_columns])"
   ]
  },
  {
   "cell_type": "markdown",
   "metadata": {},
   "source": [
    "## Evaluate the fit"
   ]
  },
  {
   "cell_type": "code",
   "execution_count": 34,
   "metadata": {},
   "outputs": [
    {
     "data": {
      "text/plain": [
       "{'overall': 0.8144713000214981,\n",
       " 'by_group': {'female': 0.8914678302850246, 'male': 0.7764111977971546}}"
      ]
     },
     "execution_count": 34,
     "metadata": {},
     "output_type": "execute_result"
    }
   ],
   "source": [
    "from fairlearn.metrics import group_summary\n",
    "from sklearn.metrics import accuracy_score\n",
    "group_summary(accuracy_score, y_true, y_pred, sensitive_features=sex)\n"
   ]
  },
  {
   "cell_type": "code",
   "execution_count": 35,
   "metadata": {},
   "outputs": [
    {
     "data": {
      "text/plain": [
       "{'overall': 0.13433248364607966,\n",
       " 'by_group': {'female': 0.07817287159966577, 'male': 0.16209270307480494}}"
      ]
     },
     "execution_count": 35,
     "metadata": {},
     "output_type": "execute_result"
    }
   ],
   "source": [
    "from fairlearn.metrics import selection_rate, ratio_from_summary\n",
    "selection_rate_summary = group_summary(selection_rate, y_true, y_pred, sensitive_features=sex)\n",
    "selection_rate_summary"
   ]
  },
  {
   "cell_type": "code",
   "execution_count": 36,
   "metadata": {},
   "outputs": [
    {
     "data": {
      "text/plain": [
       "0.4822726138609052"
      ]
     },
     "execution_count": 36,
     "metadata": {},
     "output_type": "execute_result"
    }
   ],
   "source": [
    "ratio_from_summary(selection_rate_summary)\n",
    "# Thus one group is twice as much selected as the other"
   ]
  },
  {
   "cell_type": "code",
   "execution_count": 37,
   "metadata": {},
   "outputs": [
    {
     "data": {
      "text/plain": [
       "0.03810644550421938"
      ]
     },
     "execution_count": 37,
     "metadata": {},
     "output_type": "execute_result"
    }
   ],
   "source": [
    "from fairlearn.metrics import equalized_odds_difference\n",
    "\n",
    "equalized_odds_difference(y_true, y_pred, sensitive_features=sex)\n",
    "# Thus the probability barely of true positive and false negative barely changes if the protetected attribute \n",
    "# changes value"
   ]
  },
  {
   "cell_type": "code",
   "execution_count": 38,
   "metadata": {},
   "outputs": [
    {
     "data": {
      "text/html": [
       "<div>\n",
       "<style scoped>\n",
       "    .dataframe tbody tr th:only-of-type {\n",
       "        vertical-align: middle;\n",
       "    }\n",
       "\n",
       "    .dataframe tbody tr th {\n",
       "        vertical-align: top;\n",
       "    }\n",
       "\n",
       "    .dataframe thead th {\n",
       "        text-align: right;\n",
       "    }\n",
       "</style>\n",
       "<table border=\"1\" class=\"dataframe\">\n",
       "  <thead>\n",
       "    <tr style=\"text-align: right;\">\n",
       "      <th></th>\n",
       "      <th>female</th>\n",
       "      <th>male</th>\n",
       "      <th>overall</th>\n",
       "    </tr>\n",
       "  </thead>\n",
       "  <tbody>\n",
       "    <tr>\n",
       "      <th>True positive</th>\n",
       "      <td>0.361323</td>\n",
       "      <td>0.399430</td>\n",
       "      <td>0.393700</td>\n",
       "    </tr>\n",
       "    <tr>\n",
       "      <th>False positive</th>\n",
       "      <td>0.043369</td>\n",
       "      <td>0.057575</td>\n",
       "      <td>0.052063</td>\n",
       "    </tr>\n",
       "    <tr>\n",
       "      <th>False negative</th>\n",
       "      <td>0.638677</td>\n",
       "      <td>0.600570</td>\n",
       "      <td>0.606300</td>\n",
       "    </tr>\n",
       "    <tr>\n",
       "      <th>True negative</th>\n",
       "      <td>0.956631</td>\n",
       "      <td>0.942425</td>\n",
       "      <td>0.947937</td>\n",
       "    </tr>\n",
       "  </tbody>\n",
       "</table>\n",
       "</div>"
      ],
      "text/plain": [
       "                  female      male   overall\n",
       "True positive   0.361323  0.399430  0.393700\n",
       "False positive  0.043369  0.057575  0.052063\n",
       "False negative  0.638677  0.600570  0.606300\n",
       "True negative   0.956631  0.942425  0.947937"
      ]
     },
     "execution_count": 38,
     "metadata": {},
     "output_type": "execute_result"
    }
   ],
   "source": [
    "from fairlearn.metrics import true_positive_rate, false_negative_rate, false_positive_rate, true_negative_rate\n",
    "\n",
    "tp = group_summary(true_positive_rate, y_true, y_pred, sensitive_features=sex)\n",
    "fn = group_summary(false_negative_rate, y_true, y_pred, sensitive_features=sex)\n",
    "fp = group_summary(false_positive_rate, y_true, y_pred, sensitive_features=sex)\n",
    "tn = group_summary(true_negative_rate, y_true, y_pred, sensitive_features=sex)\n",
    "\n",
    "\n",
    "def flatten_group_summary(group_summary_dict):\n",
    "    dict_flattened = {k: v for (k, v) in group_summary_dict.get('by_group').items()}\n",
    "    dict_flattened.update({'overall':  group_summary_dict.get('overall')})\n",
    "    return dict_flattened\n",
    "\n",
    "def create_df_summaries(summary_function, tp, fp, fn, tn):\n",
    "    df = pd.DataFrame.from_dict({\n",
    "        'True positive': summary_function(tp),\n",
    "        'False positive': summary_function(fp),\n",
    "        'False negative': summary_function(fn),\n",
    "        'True negative': summary_function(tn),\n",
    "    }, orient='index')\n",
    "    return df\n",
    "\n",
    "create_df_summaries(flatten_group_summary, tp, fp, fn, tn)\n",
    "\n"
   ]
  },
  {
   "cell_type": "code",
   "execution_count": 39,
   "metadata": {},
   "outputs": [
    {
     "data": {
      "text/html": [
       "<div>\n",
       "<style scoped>\n",
       "    .dataframe tbody tr th:only-of-type {\n",
       "        vertical-align: middle;\n",
       "    }\n",
       "\n",
       "    .dataframe tbody tr th {\n",
       "        vertical-align: top;\n",
       "    }\n",
       "\n",
       "    .dataframe thead th {\n",
       "        text-align: right;\n",
       "    }\n",
       "</style>\n",
       "<table border=\"1\" class=\"dataframe\">\n",
       "  <thead>\n",
       "    <tr style=\"text-align: right;\">\n",
       "      <th></th>\n",
       "      <th>0</th>\n",
       "    </tr>\n",
       "  </thead>\n",
       "  <tbody>\n",
       "    <tr>\n",
       "      <th>True positive</th>\n",
       "      <td>0.904598</td>\n",
       "    </tr>\n",
       "    <tr>\n",
       "      <th>False positive</th>\n",
       "      <td>0.753265</td>\n",
       "    </tr>\n",
       "    <tr>\n",
       "      <th>False negative</th>\n",
       "      <td>0.940335</td>\n",
       "    </tr>\n",
       "    <tr>\n",
       "      <th>True negative</th>\n",
       "      <td>0.985150</td>\n",
       "    </tr>\n",
       "  </tbody>\n",
       "</table>\n",
       "</div>"
      ],
      "text/plain": [
       "                       0\n",
       "True positive   0.904598\n",
       "False positive  0.753265\n",
       "False negative  0.940335\n",
       "True negative   0.985150"
      ]
     },
     "execution_count": 39,
     "metadata": {},
     "output_type": "execute_result"
    }
   ],
   "source": [
    "create_df_summaries(ratio_from_summary, tp, fp, fn, tn)\n"
   ]
  },
  {
   "cell_type": "code",
   "execution_count": 40,
   "metadata": {},
   "outputs": [
    {
     "data": {
      "text/plain": [
       "0.7532645363673709"
      ]
     },
     "execution_count": 40,
     "metadata": {},
     "output_type": "execute_result"
    }
   ],
   "source": [
    "from fairlearn.metrics import equalized_odds_ratio\n",
    "equalized_odds_ratio(y_true, y_pred, sensitive_features=sex)\n"
   ]
  },
  {
   "cell_type": "code",
   "execution_count": 41,
   "metadata": {},
   "outputs": [
    {
     "data": {
      "application/vnd.jupyter.widget-view+json": {
       "model_id": "439296d4cdd04ad6a60bd42a52cf1bc5",
       "version_major": 2,
       "version_minor": 0
      },
      "text/plain": [
       "FairlearnWidget(value={'true_y': [0, 0, 0, 0, 0, 0, 0, 1, 1, 1, 1, 1, 0, 0, 1, 0, 0, 0, 0, 1, 1, 0, 0, 0, 0, 1…"
      ]
     },
     "metadata": {},
     "output_type": "display_data"
    },
    {
     "data": {
      "text/plain": [
       "<fairlearn.widget._fairlearn_dashboard.FairlearnDashboard at 0x7f82e0243910>"
      ]
     },
     "execution_count": 41,
     "metadata": {},
     "output_type": "execute_result"
    }
   ],
   "source": [
    "# Accuracy (TP + TN)/ All: The model is better at assesing most appropriate category of women\n",
    "# Balanced accuracy: If the smallest category (positive) gets more weight, weighed accuracy approx the same\n",
    "# Precision TP/ (TP + FP): More women (+/- 50%) vs men (+/- 25%) are wrongly chosen for the True category\n",
    "# Recall TP/ (TP + FN): More women are forgot\n",
    "# Selection rate (TP + FP)/ P: Men are twice as likely to be selected\n",
    "\n",
    "from fairlearn.widget import FairlearnDashboard\n",
    "FairlearnDashboard(sensitive_features=sex,\n",
    "                   sensitive_feature_names=['sex'],\n",
    "                   y_true=y_true,\n",
    "                   y_pred={\"initial model\": y_pred})"
   ]
  },
  {
   "cell_type": "code",
   "execution_count": 79,
   "metadata": {},
   "outputs": [],
   "source": [
    "from fairlearn.postprocessing._threshold_optimizer import _reformat_and_group_data\n",
    "from fairlearn.postprocessing._roc_curve_utilities import _calculate_roc_points, _filter_points_to_get_convex_hull\n",
    "from fairlearn.postprocessing._roc_curve_utilities import _get_roc,  _interpolate_curve\n",
    "def get_roc_points(data_grouped_by_sensitive_feature):\n",
    "\n",
    "    roc_points = {}\n",
    "    for group_name, group in data_grouped_by_sensitive_feature:\n",
    "        roc_points[group_name] = _calculate_roc_points(\n",
    "            data_grouped_by_sensitive_feature.get_group(group_name), 0\n",
    "        )\n",
    "    return roc_points\n",
    "\n",
    "def plot_roc(data_grouped_by_sensitive_feature, roc_points, **kwargs):\n",
    "    \n",
    "    \n",
    "    for group_name, group in data_grouped_by_sensitive_feature:\n",
    "        plt.plot(roc_points[group_name].x, roc_points[group_name].y, label=group_name)\n",
    "\n",
    "    plt.xlabel(\"$P [ \\\\hat{Y}=1 | Y=0 ]$\")\n",
    "    plt.ylabel(\"$P [ \\\\hat{Y}=1 | Y=1 ]$\")\n",
    "    plt.legend()    \n"
   ]
  },
  {
   "cell_type": "code",
   "execution_count": null,
   "metadata": {},
   "outputs": [],
   "source": []
  },
  {
   "cell_type": "code",
   "execution_count": 43,
   "metadata": {},
   "outputs": [
    {
     "data": {
      "text/html": [
       "['_constants.py', '_threshold_optimizer.py', '_roc_curve_utilities.py', '__init__.py', '_plotting.py', '__pycache__', '_interpolated_prediction.py', '_threshold_operation.py']"
      ],
      "text/plain": [
       "['_constants.py',\n",
       " '_threshold_optimizer.py',\n",
       " '_roc_curve_utilities.py',\n",
       " '__init__.py',\n",
       " '_plotting.py',\n",
       " '__pycache__',\n",
       " '_interpolated_prediction.py',\n",
       " '_threshold_operation.py']"
      ]
     },
     "execution_count": 43,
     "metadata": {},
     "output_type": "execute_result"
    }
   ],
   "source": [
    "os.listdir('/Users/bertwassink/opt/anaconda3/envs/fairtalk/lib/python3.7/site-packages/fairlearn/postprocessing/')"
   ]
  },
  {
   "cell_type": "code",
   "execution_count": 106,
   "metadata": {},
   "outputs": [
    {
     "name": "stdout",
     "output_type": "stream",
     "text": [
      "# Copyright (c) Microsoft Corporation. All rights reserved.\r\n",
      "# Licensed under the MIT License.\r\n",
      "\r\n",
      "import numpy as np\r\n",
      "import pandas as pd\r\n",
      "\r\n",
      "from ._constants import LABEL_KEY, SCORE_KEY, P0_KEY, P1_KEY\r\n",
      "from ._threshold_operation import ThresholdOperation\r\n",
      "\r\n",
      "DEGENERATE_LABELS_ERROR_MESSAGE = \"Degenerate labels for sensitive feature value {}\"\r\n",
      "\r\n",
      "\r\n",
      "def _get_roc(data, sensitive_feature_value, flip=True):\r\n",
      "    \"\"\"Get ROC curve's convex hull based on data columns 'score' and 'label'.\r\n",
      "\r\n",
      "    Scores represent output values from the predictor.\r\n",
      "\r\n",
      "    :param data: the DataFrame containing scores and labels\r\n",
      "    :type data: pandas.DataFrame\r\n",
      "    :param sensitive_feature_value: the sensitive feature value of the samples provided in `data`\r\n",
      "    :type sensitive_feature_value: str or int\r\n",
      "    :param flip: if True flip points below the ROC diagonal into points above by applying negative\r\n",
      "        weights; if False does not allow flipping; default True\r\n",
      "    :type flip: bool\r\n",
      "    :return: the convex hull over the ROC curve points\r\n",
      "    :rtype: pandas.DataFrame\r\n",
      "    \"\"\"\r\n",
      "    roc_sorted = _calculate_roc_points(data, sensitive_feature_value, flip)\r\n",
      "    roc_selected = _filter_points_to_get_convex_hull(roc_sorted)\r\n",
      "    roc_convex_hull = pd.DataFrame(roc_selected)[['x', 'y', 'operation']]\r\n",
      "    return roc_convex_hull\r\n",
      "\r\n",
      "\r\n",
      "def _filter_points_to_get_convex_hull(roc_sorted):\r\n",
      "    \"\"\"Find the convex hull.\r\n",
      "\r\n",
      "    Uses a simplified version of Andrew's monotone chain convex hull algorithm\r\n",
      "    https://en.wikibooks.org/wiki/Algorithm_Implementation/Geometry/Convex_hull/Monotone_chain\r\n",
      "    to get the convex hull. Since we can assume the points (0,0) and (1,1) to be part\r\n",
      "    of the convex hull the problem is simpler and we only need to make a single pass\r\n",
      "    through the data.\r\n",
      "\r\n",
      "    :param roc_sorted: DataFrame with ROC curve points sorted by 'x'\r\n",
      "    :type roc_sorted: pandas.DataFrame\r\n",
      "    :return: the list of points that make up the convex hull\r\n",
      "    :rtype: list of named tuples\r\n",
      "    \"\"\"\r\n",
      "    selected = []\r\n",
      "    for r2 in roc_sorted.itertuples():\r\n",
      "        # For each set of three points, i.e. the last two points in selected\r\n",
      "        # and the next point from the sorted list of base points, check\r\n",
      "        # whether the middle point (r1) lies above the line between the\r\n",
      "        # first point (r0) and the next base point (r2). If it is above,\r\n",
      "        # it is indeed required for the convex hull. If it is below or\r\n",
      "        # on the line, then it is part of the convex hull as defined with\r\n",
      "        # just r0 and r2 and we can drop it from the list of selected points.\r\n",
      "        while len(selected) >= 2:\r\n",
      "            r1 = selected[-1]\r\n",
      "            r0 = selected[-2]\r\n",
      "            # Compare slopes of lines between r0 and r1/r2 to determine\r\n",
      "            # whether or not to drop r1. Instead of delta_y/delta_x we\r\n",
      "            # multiplied both sides of the inequation by the delta_xs.\r\n",
      "            if (r1.y - r0.y) * (r2.x - r0.x) <= (r2.y - r0.y) * (r1.x - r0.x):\r\n",
      "                # drop r1\r\n",
      "                selected.pop()\r\n",
      "            else:\r\n",
      "                break\r\n",
      "        selected.append(r2)\r\n",
      "    return selected\r\n",
      "\r\n",
      "\r\n",
      "def _interpolate_curve(data, x_col, y_col, content_col, x_grid):\r\n",
      "    \"\"\"Interpolates the DataFrame in `data` along the values in `x_grid`.\r\n",
      "\r\n",
      "    Assumes: (1) data[y_col] is convex and non-decreasing in data[x_col]\r\n",
      "             (2) min and max in x_grid are below/above min and max in data[x_col]\r\n",
      "             (3) data is indexed 0,...,len(data)\r\n",
      "\r\n",
      "    :param data: the convex hull data points\r\n",
      "    :type data: pandas.DataFrame\r\n",
      "    :param x_col: name of the x-column in `data`\r\n",
      "    :type x_col: str\r\n",
      "    :param y_col: name of the y-column in `data`\r\n",
      "    :type y_col: str\r\n",
      "    :param content_col: name of the column in `data` with a description of the data point\r\n",
      "    :type content_col: str\r\n",
      "    :param x_grid: the grid of x-values for which the y-values need to be calculated\r\n",
      "    :type x_grid: numpy.ndarray\r\n",
      "    :return: DataFrame with the points of the interpolated curve\r\n",
      "    :type: pandas.DataFrame\r\n",
      "    \"\"\"\r\n",
      "    data_transpose = data.transpose()\r\n",
      "\r\n",
      "    content_col_0 = content_col + '0'\r\n",
      "    content_col_1 = content_col + '1'\r\n",
      "\r\n",
      "    i = 0\r\n",
      "    dict_list = []\r\n",
      "    x0 = data_transpose[0][x_col]\r\n",
      "    while data_transpose[i + 1][x_col] == x0:\r\n",
      "        i += 1\r\n",
      "\r\n",
      "    # calculate the curve points for each x tick in x_grid\r\n",
      "    for x in x_grid:\r\n",
      "        # skip over data points that we've already passed\r\n",
      "        while x > data_transpose[i + 1][x_col]:\r\n",
      "            i += 1\r\n",
      "\r\n",
      "        # Calculate the y value at x based on the slope between data points i and i + 1\r\n",
      "        x_distance_from_next_data_point = data_transpose[i + 1][x_col] - x\r\n",
      "        x_distance_between_data_points = data_transpose[i + 1][x_col] - data_transpose[i][x_col]\r\n",
      "        p0 = x_distance_from_next_data_point/x_distance_between_data_points\r\n",
      "        p1 = 1 - p0\r\n",
      "        y = p0 * data_transpose[i][y_col] + p1 * data_transpose[i + 1][y_col]\r\n",
      "        dict_list.append({\r\n",
      "            x_col: x,\r\n",
      "            y_col: y,\r\n",
      "            P0_KEY: p0,\r\n",
      "            content_col_0: data_transpose[i][content_col],\r\n",
      "            P1_KEY: p1,\r\n",
      "            content_col_1: data_transpose[i + 1][content_col]})\r\n",
      "\r\n",
      "    return pd.DataFrame(dict_list)[[x_col, y_col, P0_KEY, content_col_0, P1_KEY, content_col_1]]\r\n",
      "\r\n",
      "\r\n",
      "def _calculate_roc_points(data, sensitive_feature_value, flip=True):\r\n",
      "    \"\"\"Calculate the ROC points from the scores and labels.\r\n",
      "\r\n",
      "    This is done by iterating through all possible\r\n",
      "    thresholds that could be set based on the available scores.\r\n",
      "\r\n",
      "    :param data: the DataFrame containing scores and labels\r\n",
      "    :type data: pandas.DataFrame\r\n",
      "    :param sensitive_feature_value: the sensitive feature value of the samples provided in `data`\r\n",
      "    :type sensitive_feature_value: str or int\r\n",
      "    :param flip: if True flip points below the ROC diagonal into points above by applying negative\r\n",
      "        weights; if False does not allow flipping; default True\r\n",
      "    :type flip: bool\r\n",
      "    :return: the ROC curve points with their corresponding threshold operations\r\n",
      "    :rtype: pandas.DataFrame\r\n",
      "    \"\"\"\r\n",
      "    scores, labels, n, n_positive, n_negative = _get_scores_labels_and_counts(data)\r\n",
      "\r\n",
      "    if n_positive == 0 or n_negative == 0:\r\n",
      "        raise ValueError(DEGENERATE_LABELS_ERROR_MESSAGE.format(sensitive_feature_value))\r\n",
      "\r\n",
      "    scores.append(-np.inf)\r\n",
      "    labels.append(np.nan)\r\n",
      "\r\n",
      "    x_list, y_list, operation_list = [0], [0], [ThresholdOperation('>', np.inf)]\r\n",
      "\r\n",
      "    # Iterate through all samples which are sorted by increasing scores.\r\n",
      "    # Setting the threshold between two scores means that everything smaller\r\n",
      "    # than the threshold gets a label of 0 while everything larger than the\r\n",
      "    # threshold gets a label of 1. Flipping labels is an option if flipping\r\n",
      "    # labels provides better accuracy.\r\n",
      "    i = 0\r\n",
      "    count = [0, 0]\r\n",
      "    while i < n:\r\n",
      "        threshold = scores[i]\r\n",
      "        while scores[i] == threshold:\r\n",
      "            count[labels[i]] += 1\r\n",
      "            i += 1\r\n",
      "        # For the ROC curve we calculate points (x, y), where x represents\r\n",
      "        # the conditional probability P[Y_hat=1 | Y=0] and y represents\r\n",
      "        # the conditional probability P[Y_hat=1 | Y=1]. The conditional\r\n",
      "        # probability is achieved by dividing by only the number of\r\n",
      "        # negative/positive samples.\r\n",
      "        x, y = count[0] / n_negative, count[1] / n_positive\r\n",
      "        threshold = (threshold + scores[i]) / 2\r\n",
      "        operation = ThresholdOperation('>', threshold)\r\n",
      "\r\n",
      "        if flip and x > y:\r\n",
      "            x, y = 1 - x, 1 - y\r\n",
      "            operation = ThresholdOperation('<', threshold)\r\n",
      "        x_list.append(x)\r\n",
      "        y_list.append(y)\r\n",
      "        operation_list.append(operation)\r\n",
      "\r\n",
      "    return pd.DataFrame({'x': x_list, 'y': y_list, 'operation': operation_list}) \\\r\n",
      "        .sort_values(by=['x', 'y'])\r\n",
      "\r\n",
      "\r\n",
      "def _get_scores_labels_and_counts(data):\r\n",
      "    \"\"\"Order samples by scores, counting number of positive, negative, and overall samples.\r\n",
      "\r\n",
      "    The samples are sorted into ascending order.\r\n",
      "\r\n",
      "    :param data: the DataFrame containing scores and labels\r\n",
      "    :type data: pandas.DataFrame\r\n",
      "    :return: a tuple containing the sorted scores, labels, the number of samples, the number\r\n",
      "        of positive samples, and the number of negative samples\r\n",
      "    :rtype: tuple of list, list, int, int, int\r\n",
      "    \"\"\"\r\n",
      "    data_sorted = data.sort_values(by=SCORE_KEY, ascending=False)\r\n",
      "\r\n",
      "    scores = list(data_sorted[SCORE_KEY])\r\n",
      "    labels = list(data_sorted[LABEL_KEY])\r\n",
      "\r\n",
      "    n, n_positive, n_negative = _get_counts(labels)\r\n",
      "\r\n",
      "    return scores, labels, n, n_positive, n_negative\r\n",
      "\r\n",
      "\r\n",
      "def _get_counts(labels):\r\n",
      "    \"\"\"Return the overall, positive, and negative counts of the labels.\r\n",
      "\r\n",
      "    :param labels: the labels of the samples\r\n",
      "    :type labels: list\r\n",
      "    :return: a tuple containing the overall, positive, and negative counts of the labels\r\n",
      "    :rtype: tuple of int, int, int\r\n",
      "    \"\"\"\r\n",
      "    n = len(labels)\r\n",
      "    n_positive = sum(labels)\r\n",
      "    n_negative = n - n_positive\r\n",
      "    return n, n_positive, n_negative\r\n"
     ]
    }
   ],
   "source": [
    "!cat '/Users/bertwassink/opt/anaconda3/envs/fairtalk/lib/python3.7/site-packages/fairlearn/postprocessing/_roc_curve_utilities.py'"
   ]
  },
  {
   "cell_type": "code",
   "execution_count": 104,
   "metadata": {},
   "outputs": [
    {
     "data": {
      "text/html": [
       "<div>\n",
       "<style scoped>\n",
       "    .dataframe tbody tr th:only-of-type {\n",
       "        vertical-align: middle;\n",
       "    }\n",
       "\n",
       "    .dataframe tbody tr th {\n",
       "        vertical-align: top;\n",
       "    }\n",
       "\n",
       "    .dataframe thead th {\n",
       "        text-align: right;\n",
       "    }\n",
       "</style>\n",
       "<table border=\"1\" class=\"dataframe\">\n",
       "  <thead>\n",
       "    <tr style=\"text-align: right;\">\n",
       "      <th></th>\n",
       "      <th>sensitive_feature</th>\n",
       "      <th>score</th>\n",
       "      <th>label</th>\n",
       "    </tr>\n",
       "  </thead>\n",
       "  <tbody>\n",
       "    <tr>\n",
       "      <th>0</th>\n",
       "      <td>male</td>\n",
       "      <td>0.473005</td>\n",
       "      <td>0</td>\n",
       "    </tr>\n",
       "    <tr>\n",
       "      <th>1</th>\n",
       "      <td>male</td>\n",
       "      <td>0.194624</td>\n",
       "      <td>0</td>\n",
       "    </tr>\n",
       "    <tr>\n",
       "      <th>2</th>\n",
       "      <td>male</td>\n",
       "      <td>0.104516</td>\n",
       "      <td>0</td>\n",
       "    </tr>\n",
       "    <tr>\n",
       "      <th>3</th>\n",
       "      <td>male</td>\n",
       "      <td>0.103037</td>\n",
       "      <td>0</td>\n",
       "    </tr>\n",
       "    <tr>\n",
       "      <th>4</th>\n",
       "      <td>female</td>\n",
       "      <td>0.219682</td>\n",
       "      <td>0</td>\n",
       "    </tr>\n",
       "    <tr>\n",
       "      <th>5</th>\n",
       "      <td>female</td>\n",
       "      <td>0.363684</td>\n",
       "      <td>0</td>\n",
       "    </tr>\n",
       "    <tr>\n",
       "      <th>6</th>\n",
       "      <td>female</td>\n",
       "      <td>0.018860</td>\n",
       "      <td>0</td>\n",
       "    </tr>\n",
       "    <tr>\n",
       "      <th>7</th>\n",
       "      <td>male</td>\n",
       "      <td>0.205415</td>\n",
       "      <td>1</td>\n",
       "    </tr>\n",
       "    <tr>\n",
       "      <th>8</th>\n",
       "      <td>female</td>\n",
       "      <td>0.983302</td>\n",
       "      <td>1</td>\n",
       "    </tr>\n",
       "    <tr>\n",
       "      <th>12</th>\n",
       "      <td>female</td>\n",
       "      <td>0.132158</td>\n",
       "      <td>0</td>\n",
       "    </tr>\n",
       "  </tbody>\n",
       "</table>\n",
       "</div>"
      ],
      "text/plain": [
       "   sensitive_feature     score  label\n",
       "0               male  0.473005      0\n",
       "1               male  0.194624      0\n",
       "2               male  0.104516      0\n",
       "3               male  0.103037      0\n",
       "4             female  0.219682      0\n",
       "5             female  0.363684      0\n",
       "6             female  0.018860      0\n",
       "7               male  0.205415      1\n",
       "8             female  0.983302      1\n",
       "12            female  0.132158      0"
      ]
     },
     "execution_count": 104,
     "metadata": {},
     "output_type": "execute_result"
    }
   ],
   "source": [
    "data_grouped_by_sensitive_feature_before = _reformat_and_group_data(\n",
    "    sex, y_true, y_prob[:,1]\n",
    ")\n",
    "data_grouped_by_sensitive_feature_before.head()"
   ]
  },
  {
   "cell_type": "code",
   "execution_count": 46,
   "metadata": {},
   "outputs": [
    {
     "data": {
      "text/html": [
       "<div>\n",
       "<style scoped>\n",
       "    .dataframe tbody tr th:only-of-type {\n",
       "        vertical-align: middle;\n",
       "    }\n",
       "\n",
       "    .dataframe tbody tr th {\n",
       "        vertical-align: top;\n",
       "    }\n",
       "\n",
       "    .dataframe thead th {\n",
       "        text-align: right;\n",
       "    }\n",
       "</style>\n",
       "<table border=\"1\" class=\"dataframe\">\n",
       "  <thead>\n",
       "    <tr style=\"text-align: right;\">\n",
       "      <th></th>\n",
       "      <th>sensitive_feature</th>\n",
       "      <th>score</th>\n",
       "      <th>label</th>\n",
       "    </tr>\n",
       "  </thead>\n",
       "  <tbody>\n",
       "    <tr>\n",
       "      <th>0</th>\n",
       "      <td>male</td>\n",
       "      <td>0.473005</td>\n",
       "      <td>0</td>\n",
       "    </tr>\n",
       "    <tr>\n",
       "      <th>1</th>\n",
       "      <td>male</td>\n",
       "      <td>0.194624</td>\n",
       "      <td>0</td>\n",
       "    </tr>\n",
       "    <tr>\n",
       "      <th>2</th>\n",
       "      <td>male</td>\n",
       "      <td>0.104516</td>\n",
       "      <td>0</td>\n",
       "    </tr>\n",
       "    <tr>\n",
       "      <th>3</th>\n",
       "      <td>male</td>\n",
       "      <td>0.103037</td>\n",
       "      <td>0</td>\n",
       "    </tr>\n",
       "    <tr>\n",
       "      <th>7</th>\n",
       "      <td>male</td>\n",
       "      <td>0.205415</td>\n",
       "      <td>1</td>\n",
       "    </tr>\n",
       "  </tbody>\n",
       "</table>\n",
       "</div>"
      ],
      "text/plain": [
       "  sensitive_feature     score  label\n",
       "0              male  0.473005      0\n",
       "1              male  0.194624      0\n",
       "2              male  0.104516      0\n",
       "3              male  0.103037      0\n",
       "7              male  0.205415      1"
      ]
     },
     "execution_count": 46,
     "metadata": {},
     "output_type": "execute_result"
    }
   ],
   "source": [
    "data_grouped_by_sensitive_feature_before.get_group('male').head()"
   ]
  },
  {
   "cell_type": "code",
   "execution_count": 47,
   "metadata": {},
   "outputs": [
    {
     "data": {
      "image/png": "[encoded data removed]",
      "text/plain": [
       "<Figure size 432x288 with 1 Axes>"
      ]
     },
     "metadata": {
      "needs_background": "light"
     },
     "output_type": "display_data"
    }
   ],
   "source": [
    "roc_points_before = get_roc_points(data_grouped_by_sensitive_feature_before)\n",
    "plt1 = plot_roc(data_grouped_by_sensitive_feature_before, roc_points_before)\n"
   ]
  },
  {
   "cell_type": "code",
   "execution_count": 48,
   "metadata": {},
   "outputs": [
    {
     "data": {
      "image/png": "[encoded data removed]",
      "text/plain": [
       "<Figure size 432x288 with 1 Axes>"
      ]
     },
     "metadata": {
      "needs_background": "light"
     },
     "output_type": "display_data"
    }
   ],
   "source": [
    "roc_points_before = get_roc_points(data_grouped_by_sensitive_feature_before)\n",
    "roc_sorted = roc_points_before.get('male')\n",
    "roc_selected = _filter_points_to_get_convex_hull(roc_sorted)\n",
    "roc_convex_hull = pd.DataFrame(roc_selected)[['x', 'y', 'operation']]\n",
    "# y \n",
    "\n",
    "plt.plot(roc_sorted['x'],\n",
    "         roc_sorted['y'],\n",
    "         marker='',\n",
    "         linewidth=1,\n",
    "         linestyle='-',\n",
    "         c='red',\n",
    "         label='ROC')\n",
    "plt.plot(roc_convex_hull['x'],\n",
    "         roc_convex_hull['y'],\n",
    "         marker='*',\n",
    "         \n",
    "         linestyle='',\n",
    "         label='convex hull'\n",
    "        )\n",
    "plt.xlabel('False positives')\n",
    "plt.ylabel('True positives')\n",
    "plt.legend()\n",
    "plt.show()"
   ]
  },
  {
   "cell_type": "code",
   "execution_count": 84,
   "metadata": {},
   "outputs": [],
   "source": [
    "grid = np.linspace(0, 1, 100 + 1)"
   ]
  },
  {
   "cell_type": "code",
   "execution_count": 105,
   "metadata": {},
   "outputs": [
    {
     "name": "stdout",
     "output_type": "stream",
     "text": [
      "a\n"
     ]
    }
   ],
   "source": [
    "print('a')"
   ]
  },
  {
   "cell_type": "code",
   "execution_count": 96,
   "metadata": {},
   "outputs": [
    {
     "data": {
      "image/png": "[encoded data removed]",
      "text/plain": [
       "<Figure size 864x360 with 1 Axes>"
      ]
     },
     "metadata": {
      "needs_background": "light"
     },
     "output_type": "display_data"
    },
    {
     "data": {
      "image/png": "[encoded data removed]",
      "text/plain": [
       "<Figure size 864x360 with 1 Axes>"
      ]
     },
     "metadata": {
      "needs_background": "light"
     },
     "output_type": "display_data"
    }
   ],
   "source": [
    "n = X.shape[0]\n",
    "overall_tradeoff_curve = 0\n",
    "selection_error_curve = {}\n",
    "for name, group  in data_grouped_by_sensitive_feature_before:\n",
    "    n_group = len(group)\n",
    "    n_positive = sum(group['label'])\n",
    "    n_negative = n_group - n_positive\n",
    "    p_sensitive_feature_value = n_group / n\n",
    "    \n",
    "    roc_convex_hull = _get_roc(group, name, flip=False)\n",
    "    \n",
    "    fraction_negative_label_positive_sample = (\n",
    "        n_negative / n_group) * roc_convex_hull['x']\n",
    "    fraction_positive_label_positive_sample = (\n",
    "        n_positive / n_group) * roc_convex_hull['y']\n",
    "    # Calculate selection to represent the proportion of positive predictions.\n",
    "    roc_convex_hull['selection'] = fraction_negative_label_positive_sample + \\\n",
    "        fraction_positive_label_positive_sample\n",
    "\n",
    "    fraction_positive_label_negative_sample = \\\n",
    "        (n_positive / n_group) * (1 - roc_convex_hull['y'])\n",
    "    roc_convex_hull['error'] = fraction_negative_label_positive_sample + \\\n",
    "        fraction_positive_label_negative_sample\n",
    "    \n",
    "    selection_error_curve[name] = \\\n",
    "                _interpolate_curve(roc_convex_hull, 'selection', 'error', 'operation', grid)\n",
    "    \n",
    "    overall_tradeoff_curve += p_sensitive_feature_value * \\\n",
    "                selection_error_curve[name]['error']\n",
    "    \n",
    "    \n",
    "    plt.plot(roc_convex_hull['selection'],\n",
    "             roc_convex_hull['error'],\n",
    "             marker='*',\n",
    "             linestyle='',\n",
    "             label='convex hull'\n",
    "            )\n",
    "\n",
    "    plt.xlabel('selection')\n",
    "    plt.ylabel('error')\n",
    "    plt.title(name)\n",
    "    plt.show()"
   ]
  },
  {
   "cell_type": "code",
   "execution_count": 99,
   "metadata": {},
   "outputs": [
    {
     "data": {
      "text/plain": [
       "<matplotlib.axes._subplots.AxesSubplot at 0x7f82d9a9a3d0>"
      ]
     },
     "execution_count": 99,
     "metadata": {},
     "output_type": "execute_result"
    },
    {
     "data": {
      "image/png": "[encoded data removed]",
      "text/plain": [
       "<Figure size 864x360 with 1 Axes>"
      ]
     },
     "metadata": {
      "needs_background": "light"
     },
     "output_type": "display_data"
    }
   ],
   "source": [
    "overall_tradeoff_curve.plot()"
   ]
  },
  {
   "cell_type": "code",
   "execution_count": null,
   "metadata": {},
   "outputs": [],
   "source": [
    "n_group = len(group)\n",
    "n_positive = sum(group[LABEL_KEY])\n",
    "n_negative = n_group - n_positive\n",
    "p_sensitive_feature_value = n_group / n\n",
    "\n",
    "roc_convex_hull = _get_roc(group, sensitive_feature_value, flip=flip)\n",
    "\n",
    "fraction_negative_label_positive_sample = (\n",
    "    n_negative / n_group) * roc_convex_hull['x']\n",
    "fraction_positive_label_positive_sample = (\n",
    "    n_positive / n_group) * roc_convex_hull['y']\n",
    "# Calculate selection to represent the proportion of positive predictions.\n",
    "roc_convex_hull['selection'] = fraction_negative_label_positive_sample + \\\n",
    "    fraction_positive_label_positive_sample\n",
    "\n",
    "fraction_positive_label_negative_sample = \\\n",
    "    (n_positive / n_group) * (1 - roc_convex_hull['y'])\n",
    "roc_convex_hull['error'] = fraction_negative_label_positive_sample + \\\n",
    "    fraction_positive_label_negative_sample\n",
    "\n",
    "self._selection_error_curve[sensitive_feature_value] = \\\n",
    "    _interpolate_curve(roc_convex_hull, 'selection', 'error', 'operation',\n",
    "                       self._x_grid)\n"
   ]
  },
  {
   "cell_type": "markdown",
   "metadata": {},
   "source": [
    "## Mitigate disparity using postprocessing"
   ]
  },
  {
   "cell_type": "code",
   "execution_count": 49,
   "metadata": {},
   "outputs": [],
   "source": [
    "from fairlearn.postprocessing import ThresholdOptimizer\n",
    "\n",
    "estimator = LogisticRegression(solver=\"liblinear\")\n",
    "\n",
    "\n",
    "from sklearn import clone\n",
    "from sklearn.base import BaseEstimator, ClassifierMixin\n",
    "from sklearn.utils.validation import check_is_fitted\n",
    "from sklearn.exceptions import NotFittedError\n",
    "\n",
    "\n",
    "class LogisticRegressionAsRegression(BaseEstimator, ClassifierMixin):\n",
    "    def __init__(self, logistic_regression_estimator):\n",
    "        self.logistic_regression_estimator = logistic_regression_estimator\n",
    "\n",
    "    def fit(self, X, y):\n",
    "        try:\n",
    "            check_is_fitted(self.logistic_regression_estimator)\n",
    "            self.logistic_regression_estimator_ = self.logistic_regression_estimator\n",
    "        except NotFittedError:\n",
    "            self.logistic_regression_estimator_ = clone(\n",
    "                self.logistic_regression_estimator\n",
    "            ).fit(X, y)\n",
    "        return self\n",
    "    def predict(self, X):\n",
    "        # use predict_proba to get real values instead of 0/1, select only prob for 1\n",
    "        scores = self.logistic_regression_estimator_.predict_proba(X)[:, 1]\n",
    "        return scores\n",
    "\n",
    "\n",
    "estimator_wrapper = LogisticRegressionAsRegression(estimator).fit(X[numeric_columns], y_true)\n",
    "postprocessed_predictor_DP = ThresholdOptimizer(\n",
    "    estimator=estimator_wrapper, constraints=\"demographic_parity\", prefit=True\n",
    ")\n",
    "\n",
    "postprocessed_predictor_DP.fit(\n",
    "    X[numeric_columns], y_true, sensitive_features=sex\n",
    ")\n",
    "\n",
    "fairness_aware_predictions_DP_train = postprocessed_predictor_DP.predict(\n",
    "    X[numeric_columns], sensitive_features=sex\n",
    ")\n",
    "# fairness_aware_predictions_EO_test = postprocessed_predictor_EO.predict(\n",
    "#     X_test, sensitive_features=sensitive_features_test\n",
    "# )\n",
    "\n"
   ]
  },
  {
   "cell_type": "code",
   "execution_count": 50,
   "metadata": {},
   "outputs": [
    {
     "data": {
      "application/vnd.jupyter.widget-view+json": {
       "model_id": "22afad2c43b54026aaac48942af49fd9",
       "version_major": 2,
       "version_minor": 0
      },
      "text/plain": [
       "FairlearnWidget(value={'true_y': [0, 0, 0, 0, 0, 0, 0, 1, 1, 1, 1, 1, 0, 0, 1, 0, 0, 0, 0, 1, 1, 0, 0, 0, 0, 1…"
      ]
     },
     "metadata": {},
     "output_type": "display_data"
    },
    {
     "data": {
      "text/plain": [
       "<fairlearn.widget._fairlearn_dashboard.FairlearnDashboard at 0x7f82c49bec90>"
      ]
     },
     "execution_count": 50,
     "metadata": {},
     "output_type": "execute_result"
    }
   ],
   "source": [
    "FairlearnDashboard(sensitive_features=sex,\n",
    "                   sensitive_feature_names=['sex'],\n",
    "                   y_true=y_true,\n",
    "                   y_pred={\n",
    "                       \"initial model\": y_pred, \n",
    "                       \"mitigated_model\": fairness_aware_predictions_DP_train\n",
    "                          })\n"
   ]
  },
  {
   "cell_type": "code",
   "execution_count": 53,
   "metadata": {},
   "outputs": [
    {
     "data": {
      "image/png": "[encoded data removed]",
      "text/plain": [
       "<Figure size 864x360 with 1 Axes>"
      ]
     },
     "metadata": {
      "needs_background": "light"
     },
     "output_type": "display_data"
    }
   ],
   "source": [
    "data_grouped_by_sensitive_feature_mitigated = _reformat_and_group_data(\n",
    "    sex, y_true, fairness_aware_predictions_DP_train\n",
    ")\n",
    "roc_points_mitigated = get_roc_points(data_grouped_by_sensitive_feature_mitigated)\n",
    "plot_roc(data_grouped_by_sensitive_feature_mitigated, \n",
    "                roc_points_mitigated)\n"
   ]
  },
  {
   "cell_type": "code",
   "execution_count": 54,
   "metadata": {},
   "outputs": [
    {
     "name": "stdout",
     "output_type": "stream",
     "text": [
      "female:\n",
      "[p_ignore: 0\n",
      "  prediction_constant: 0\n",
      "  p0: 0.6808456790123454\n",
      "  operation0: [>0.3990724816295724]\n",
      "  p1: 0.3191543209876546\n",
      "  operation1: [>0.37484824726283017]]\n",
      "-----------------------------------\n",
      "male:\n",
      "[p_ignore: 0\n",
      "  prediction_constant: 0\n",
      "  p0: 0.9622709163346609\n",
      "  operation0: [>0.5719704303505535]\n",
      "  p1: 0.037729083665339114\n",
      "  operation1: [>0.5337162460232734]]\n",
      "-----------------------------------\n"
     ]
    }
   ],
   "source": [
    "for (\n",
    "    group,\n",
    "    interpolation,\n",
    ") in postprocessed_predictor_DP._post_processed_predictor_by_sensitive_feature.items():\n",
    "    print(\"{}:\".format(group))\n",
    "    print(\"\\n \".join(interpolation.__repr__().split(\",\")))\n",
    "    print(\"-----------------------------------\")"
   ]
  },
  {
   "cell_type": "code",
   "execution_count": 55,
   "metadata": {},
   "outputs": [
    {
     "data": {
      "image/png": "[encoded data removed]",
      "text/plain": [
       "<Figure size 864x360 with 2 Axes>"
      ]
     },
     "metadata": {
      "needs_background": "light"
     },
     "output_type": "display_data"
    }
   ],
   "source": [
    "import matplotlib.pyplot as plt\n",
    "plt.rcParams['figure.figsize'] = (12, 5)\n",
    "\n",
    "plt.subplot(221)\n",
    "plot_roc(data_grouped_by_sensitive_feature_before, \n",
    "                roc_points_before)\n",
    "plt.grid(True)\n",
    "plt.title(\"Original\")\n",
    "\n",
    "plt.subplot(222)\n",
    "plot_roc(data_grouped_by_sensitive_feature_mitigated, \n",
    "                roc_points_mitigated)\n",
    "plt.grid(True)\n",
    "plt.title(\"Mitigated\")\n",
    "\n",
    "plt.show()"
   ]
  },
  {
   "cell_type": "code",
   "execution_count": null,
   "metadata": {},
   "outputs": [],
   "source": []
  },
  {
   "cell_type": "code",
   "execution_count": null,
   "metadata": {},
   "outputs": [],
   "source": []
  }
 ],
 "metadata": {
  "kernelspec": {
   "display_name": "Python 3",
   "language": "python",
   "name": "python3"
  },
  "language_info": {
   "codemirror_mode": {
    "name": "ipython",
    "version": 3
   },
   "file_extension": ".py",
   "mimetype": "text/x-python",
   "name": "python",
   "nbconvert_exporter": "python",
   "pygments_lexer": "ipython3",
   "version": "3.7.7"
  }
 },
 "nbformat": 4,
 "nbformat_minor": 4
}
