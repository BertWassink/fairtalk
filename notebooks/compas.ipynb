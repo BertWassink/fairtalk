{
 "cells": [
  {
   "cell_type": "code",
   "execution_count": 23,
   "metadata": {},
   "outputs": [
    {
     "data": {
      "text/plain": [
       "(age                        25.000000\n",
       " juv_fel_count               0.000000\n",
       " juv_misd_count             -2.340451\n",
       " juv_other_count             1.000000\n",
       " priors_count              -15.010999\n",
       " age_cat_25 - 45             1.000000\n",
       " age_cat_Greater than 45     0.000000\n",
       " age_cat_Less than 25        0.000000\n",
       " c_charge_degree_F           0.000000\n",
       " c_charge_degree_M           1.000000\n",
       " Name: 0, dtype: float64,\n",
       " 1.0)"
      ]
     },
     "execution_count": 23,
     "metadata": {},
     "output_type": "execute_result"
    }
   ],
   "source": [
    "import pandas as pd\n",
    "import numpy as np\n",
    "from tempeh.configurations import datasets\n",
    "\n",
    "compas_dataset = datasets[\"compas\"]()\n",
    "X_train, X_test = compas_dataset.get_X(format=pd.DataFrame)\n",
    "y_train, y_test = compas_dataset.get_y(format=pd.Series)\n",
    "(\n",
    "    sensitive_features_train,\n",
    "    sensitive_features_test,\n",
    ") = compas_dataset.get_sensitive_features(\"race\", format=pd.Series)\n",
    "X_train.loc[0], y_train[0]"
   ]
  },
  {
   "cell_type": "code",
   "execution_count": 26,
   "metadata": {},
   "outputs": [],
   "source": [
    "sensitive_features_train._name = 'race2'"
   ]
  },
  {
   "cell_type": "code",
   "execution_count": 27,
   "metadata": {},
   "outputs": [
    {
     "data": {
      "text/plain": [
       "LogisticRegression(solver='liblinear')"
      ]
     },
     "execution_count": 27,
     "metadata": {},
     "output_type": "execute_result"
    }
   ],
   "source": [
    "from sklearn.linear_model import LogisticRegression\n",
    "\n",
    "estimator = LogisticRegression(solver=\"liblinear\")\n",
    "estimator.fit(X_train, y_train)"
   ]
  },
  {
   "cell_type": "code",
   "execution_count": 28,
   "metadata": {},
   "outputs": [
    {
     "name": "stdout",
     "output_type": "stream",
     "text": [
      "\n",
      "equalized odds with postprocessed model on test data:\n",
      "P[recidivism predicted | African-American]                = 0.46108949416342415\n",
      "P[recidivism predicted | African-American, recidivism]    = 0.5686274509803921\n",
      "P[recidivism predicted | African-American, no recidivism] = 0.33190578158458245\n",
      "P[recidivism predicted | Caucasian]                       = 0.4677871148459384\n",
      "P[recidivism predicted | Caucasian, recidivism]           = 0.6236162361623616\n",
      "P[recidivism predicted | Caucasian, no recidivism]        = 0.3724604966139955\n"
     ]
    },
    {
     "data": {
      "image/png": "[encoded data removed]",
      "text/plain": [
       "<Figure size 432x288 with 1 Axes>"
      ]
     },
     "metadata": {
      "needs_background": "light"
     },
     "output_type": "display_data"
    }
   ],
   "source": [
    "from sklearn import clone\n",
    "from sklearn.base import BaseEstimator, ClassifierMixin\n",
    "from sklearn.utils.validation import check_is_fitted\n",
    "from sklearn.exceptions import NotFittedError\n",
    "\n",
    "\n",
    "class LogisticRegressionAsRegression(BaseEstimator, ClassifierMixin):\n",
    "    def __init__(self, logistic_regression_estimator):\n",
    "        self.logistic_regression_estimator = logistic_regression_estimator\n",
    "\n",
    "    def fit(self, X, y):\n",
    "        try:\n",
    "            check_is_fitted(self.logistic_regression_estimator)\n",
    "            self.logistic_regression_estimator_ = self.logistic_regression_estimator\n",
    "        except NotFittedError:\n",
    "            self.logistic_regression_estimator_ = clone(\n",
    "                self.logistic_regression_estimator\n",
    "            ).fit(X, y)\n",
    "        return self\n",
    "\n",
    "    def predict(self, X):\n",
    "        # use predict_proba to get real values instead of 0/1, select only prob for 1\n",
    "        scores = self.logistic_regression_estimator_.predict_proba(X)[:, 1]\n",
    "        return scores\n",
    "\n",
    "\n",
    "from fairlearn.postprocessing import ThresholdOptimizer\n",
    "\n",
    "estimator_wrapper = LogisticRegressionAsRegression(estimator).fit(X_train, y_train)\n",
    "postprocessed_predictor_EO = ThresholdOptimizer(\n",
    "    estimator=estimator_wrapper, constraints=\"equalized_odds\", prefit=True\n",
    ")\n",
    "\n",
    "postprocessed_predictor_EO.fit(\n",
    "    X_train, y_train, sensitive_features=sensitive_features_train\n",
    ")\n",
    "\n",
    "fairness_aware_predictions_EO_train = postprocessed_predictor_EO.predict(\n",
    "    X_train, sensitive_features=sensitive_features_train\n",
    ")\n",
    "fairness_aware_predictions_EO_test = postprocessed_predictor_EO.predict(\n",
    "    X_test, sensitive_features=sensitive_features_test\n",
    ")\n",
    "\n",
    "# show only test data related plot by default - uncomment the next line to see\n",
    "# training data plot as well\n",
    "\n",
    "# show_proportions(\n",
    "#     X_train, sensitive_features_train, fairness_aware_predictions_EO_train,\n",
    "#     y_train,\n",
    "#     description=\"equalized odds with postprocessed model on training data:\",\n",
    "#     plot_row_index=1)\n",
    "show_proportions(\n",
    "    X_test,\n",
    "    sensitive_features_test,\n",
    "    fairness_aware_predictions_EO_test,\n",
    "    y_test,\n",
    "    description=\"equalized odds with postprocessed model on test data:\",\n",
    "    plot_row_index=2,\n",
    ")\n",
    "plt.show()"
   ]
  },
  {
   "cell_type": "code",
   "execution_count": 29,
   "metadata": {},
   "outputs": [
    {
     "data": {
      "text/plain": [
       "array([0.08323404, 0.43451484, 0.54980294, ..., 0.56740062, 0.22122327,\n",
       "       0.37423461])"
      ]
     },
     "execution_count": 29,
     "metadata": {},
     "output_type": "execute_result"
    }
   ],
   "source": [
    "scores = estimator_wrapper.predict(X_train)\n",
    "scores"
   ]
  },
  {
   "cell_type": "code",
   "execution_count": 30,
   "metadata": {},
   "outputs": [
    {
     "name": "stdout",
     "output_type": "stream",
     "text": [
      "Thresholding rules:\n"
     ]
    }
   ],
   "source": [
    "from fairlearn.postprocessing._threshold_optimizer import _reformat_and_group_data\n",
    "\n",
    "data_grouped_by_sensitive_feature = _reformat_and_group_data(\n",
    "    sensitive_features_train, y_train.astype(int), scores\n",
    ")\n",
    "data_grouped_by_sensitive_feature.describe()\n",
    "\n",
    "from fairlearn.postprocessing._roc_curve_utilities import _calculate_roc_points\n",
    "\n",
    "roc_points = {}\n",
    "for group_name, group in data_grouped_by_sensitive_feature:\n",
    "    roc_points[group_name] = _calculate_roc_points(\n",
    "        data_grouped_by_sensitive_feature.get_group(group_name), 0\n",
    "    )\n",
    "print(\"Thresholding rules:\")\n"
   ]
  },
  {
   "cell_type": "code",
   "execution_count": null,
   "metadata": {},
   "outputs": [],
   "source": []
  },
  {
   "cell_type": "code",
   "execution_count": 22,
   "metadata": {},
   "outputs": [
    {
     "data": {
      "text/plain": [
       "0       African-American\n",
       "1              Caucasian\n",
       "2              Caucasian\n",
       "3       African-American\n",
       "4              Caucasian\n",
       "              ...       \n",
       "3531    African-American\n",
       "3532    African-American\n",
       "3533    African-American\n",
       "3534    African-American\n",
       "3535    African-American\n",
       "Name: race, Length: 3536, dtype: object"
      ]
     },
     "execution_count": 22,
     "metadata": {},
     "output_type": "execute_result"
    }
   ],
   "source": [
    "sensitive_features_train"
   ]
  },
  {
   "cell_type": "code",
   "execution_count": 11,
   "metadata": {},
   "outputs": [
    {
     "name": "stdout",
     "output_type": "stream",
     "text": [
      "African-American:\n",
      "    number of samples with label 1: 1100\n",
      "    number of samples with label 0: 1047\n",
      "Caucasian:\n",
      "    number of samples with label 1: 551\n",
      "    number of samples with label 0: 838\n",
      "African-American:\n",
      "    P[Ŷ = 1 | Y = 0] = 0.34001910219675263\n",
      "    P[Ŷ = 1 | Y = 1] = 0.6854545454545454\n",
      "Caucasian:\n",
      "    P[Ŷ = 1 | Y = 0] = 0.1801909307875895\n",
      "    P[Ŷ = 1 | Y = 1] = 0.4010889292196007\n"
     ]
    }
   ],
   "source": [
    "n_group_0 = {}\n",
    "\n",
    "n_group_1 = {}\n",
    "for group_name, group in data_grouped_by_sensitive_feature:\n",
    "    print(\"{}:\".format(group_name))\n",
    "    n_group_1[group_name] = sum(group[\"label\"])\n",
    "    n_group_0[group_name] = len(group) - n_group_1[group_name]\n",
    "\n",
    "    print(\"    number of samples with label 1: {}\".format(n_group_1[group_name]))\n",
    "    print(\"    number of samples with label 0: {}\".format(n_group_0[group_name]))\n",
    "\n",
    "threshold = 0.5\n",
    "for group_name, group in data_grouped_by_sensitive_feature:\n",
    "    x_group_0_5 = (\n",
    "        sum((group[\"score\"] > threshold) & (group[\"label\"] == 0))\n",
    "        / n_group_0[group_name]\n",
    "    )\n",
    "    y_group_0_5 = (\n",
    "        sum((group[\"score\"] > threshold) & (group[\"label\"] == 1))\n",
    "        / n_group_1[group_name]\n",
    "    )\n",
    "    print(\"{}:\".format(group_name))\n",
    "    print(\"    P[Ŷ = 1 | Y = 0] = {}\".format(x_group_0_5))\n",
    "    print(\"    P[Ŷ = 1 | Y = 1] = {}\".format(y_group_0_5))"
   ]
  },
  {
   "cell_type": "code",
   "execution_count": 12,
   "metadata": {},
   "outputs": [
    {
     "data": {
      "image/png": "[encoded data removed]",
      "text/plain": [
       "<Figure size 432x288 with 1 Axes>"
      ]
     },
     "metadata": {
      "needs_background": "light"
     },
     "output_type": "display_data"
    }
   ],
   "source": [
    "for group_name, group in data_grouped_by_sensitive_feature:\n",
    "    plt.plot(roc_points[group_name].x, roc_points[group_name].y, label=group_name)\n",
    "    \n",
    "plt.xlabel(\"$P [ \\\\hat{Y}=1 | Y=0 ]$\")\n",
    "plt.ylabel(\"$P [ \\\\hat{Y}=1 | Y=1 ]$\")\n",
    "plt.legend()\n",
    "plt.show()"
   ]
  },
  {
   "cell_type": "code",
   "execution_count": 13,
   "metadata": {},
   "outputs": [
    {
     "name": "stdout",
     "output_type": "stream",
     "text": [
      "African-American:\n",
      "[p_ignore: 0.23207031263141853\n",
      "  prediction_constant: 0.337\n",
      "  p0: 0.6265294117647058\n",
      "  operation0: [>0.5255937372948385]\n",
      "  p1: 0.3734705882352942\n",
      "  operation1: [>0.45115774437313916]]\n",
      "-----------------------------------\n",
      "Caucasian:\n",
      "[p_ignore: 0.0\n",
      "  prediction_constant: 0.337\n",
      "  p0: 0.003735849056603747\n",
      "  operation0: [>0.5172897195295316]\n",
      "  p1: 0.9962641509433963\n",
      "  operation1: [>0.40323605733701384]]\n",
      "-----------------------------------\n"
     ]
    }
   ],
   "source": [
    "postprocessed_predictor_EO._plot = True\n",
    "postprocessed_predictor_EO.fit(\n",
    "    X_train, y_train, sensitive_features=sensitive_features_train\n",
    ")\n",
    "\n",
    "for (\n",
    "    group,\n",
    "    interpolation,\n",
    ") in postprocessed_predictor_EO._post_processed_predictor_by_sensitive_feature.items():\n",
    "    print(\"{}:\".format(group))\n",
    "    print(\"\\n \".join(interpolation.__repr__().split(\",\")))\n",
    "    print(\"-----------------------------------\")"
   ]
  },
  {
   "cell_type": "code",
   "execution_count": null,
   "metadata": {},
   "outputs": [],
   "source": []
  }
 ],
 "metadata": {
  "kernelspec": {
   "display_name": "Python 3",
   "language": "python",
   "name": "python3"
  },
  "language_info": {
   "codemirror_mode": {
    "name": "ipython",
    "version": 3
   },
   "file_extension": ".py",
   "mimetype": "text/x-python",
   "name": "python",
   "nbconvert_exporter": "python",
   "pygments_lexer": "ipython3",
   "version": "3.7.7"
  }
 },
 "nbformat": 4,
 "nbformat_minor": 4
}
